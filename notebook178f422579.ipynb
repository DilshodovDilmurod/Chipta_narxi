{
 "cells": [
  {
   "cell_type": "code",
   "execution_count": 1,
   "id": "2899112e",
   "metadata": {
    "_cell_guid": "b1076dfc-b9ad-4769-8c92-a6c4dae69d19",
    "_uuid": "8f2839f25d086af736a60e9eeb907d3b93b6e0e5",
    "execution": {
     "iopub.execute_input": "2025-02-27T18:45:05.509864Z",
     "iopub.status.busy": "2025-02-27T18:45:05.509450Z",
     "iopub.status.idle": "2025-02-27T18:45:06.320598Z",
     "shell.execute_reply": "2025-02-27T18:45:06.319324Z"
    },
    "papermill": {
     "duration": 0.821596,
     "end_time": "2025-02-27T18:45:06.322450",
     "exception": false,
     "start_time": "2025-02-27T18:45:05.500854",
     "status": "completed"
    },
    "tags": []
   },
   "outputs": [
    {
     "name": "stdout",
     "output_type": "stream",
     "text": [
      "/kaggle/input/aviachipta-narxini-bashorat-qilish/train_data.csv\n",
      "/kaggle/input/aviachipta-narxini-bashorat-qilish/test_data.csv\n",
      "/kaggle/input/aviachipta-narxini-bashorat-qilish/sample_solution.csv\n"
     ]
    }
   ],
   "source": [
    "# This Python 3 environment comes with many helpful analytics libraries installed\n",
    "# It is defined by the kaggle/python Docker image: https://github.com/kaggle/docker-python\n",
    "# For example, here's several helpful packages to load\n",
    "\n",
    "import numpy as np # linear algebra\n",
    "import pandas as pd # data processing, CSV file I/O (e.g. pd.read_csv)\n",
    "\n",
    "# Input data files are available in the read-only \"../input/\" directory\n",
    "# For example, running this (by clicking run or pressing Shift+Enter) will list all files under the input directory\n",
    "\n",
    "import os\n",
    "for dirname, _, filenames in os.walk('/kaggle/input'):\n",
    "    for filename in filenames:\n",
    "        print(os.path.join(dirname, filename))\n",
    "\n",
    "# You can write up to 20GB to the current directory (/kaggle/working/) that gets preserved as output when you create a version using \"Save & Run All\" \n",
    "# You can also write temporary files to /kaggle/temp/, but they won't be saved outside of the current session"
   ]
  },
  {
   "cell_type": "code",
   "execution_count": 2,
   "id": "31af4ac6",
   "metadata": {
    "execution": {
     "iopub.execute_input": "2025-02-27T18:45:06.337823Z",
     "iopub.status.busy": "2025-02-27T18:45:06.337322Z",
     "iopub.status.idle": "2025-02-27T18:45:08.075477Z",
     "shell.execute_reply": "2025-02-27T18:45:08.074610Z"
    },
    "papermill": {
     "duration": 1.747941,
     "end_time": "2025-02-27T18:45:08.077510",
     "exception": false,
     "start_time": "2025-02-27T18:45:06.329569",
     "status": "completed"
    },
    "tags": []
   },
   "outputs": [],
   "source": [
    "import numpy as np \n",
    "import pandas as pd \n",
    "import sklearn\n",
    "from sklearn.preprocessing import LabelEncoder, StandardScaler\n",
    "from sklearn.model_selection import train_test_split\n",
    "from sklearn import svm\n",
    "from sklearn.linear_model import LinearRegression\n",
    "from sklearn.ensemble import RandomForestRegressor\n",
    "from sklearn.metrics import mean_absolute_error\n"
   ]
  },
  {
   "cell_type": "code",
   "execution_count": 3,
   "id": "8598d1e1",
   "metadata": {
    "execution": {
     "iopub.execute_input": "2025-02-27T18:45:08.092823Z",
     "iopub.status.busy": "2025-02-27T18:45:08.092219Z",
     "iopub.status.idle": "2025-02-27T18:45:08.230558Z",
     "shell.execute_reply": "2025-02-27T18:45:08.229530Z"
    },
    "papermill": {
     "duration": 0.148132,
     "end_time": "2025-02-27T18:45:08.232654",
     "exception": false,
     "start_time": "2025-02-27T18:45:08.084522",
     "status": "completed"
    },
    "tags": []
   },
   "outputs": [
    {
     "data": {
      "text/html": [
       "<div>\n",
       "<style scoped>\n",
       "    .dataframe tbody tr th:only-of-type {\n",
       "        vertical-align: middle;\n",
       "    }\n",
       "\n",
       "    .dataframe tbody tr th {\n",
       "        vertical-align: top;\n",
       "    }\n",
       "\n",
       "    .dataframe thead th {\n",
       "        text-align: right;\n",
       "    }\n",
       "</style>\n",
       "<table border=\"1\" class=\"dataframe\">\n",
       "  <thead>\n",
       "    <tr style=\"text-align: right;\">\n",
       "      <th></th>\n",
       "      <th>airline</th>\n",
       "      <th>flight</th>\n",
       "      <th>source_city</th>\n",
       "      <th>departure_time</th>\n",
       "      <th>stops</th>\n",
       "      <th>arrival_time</th>\n",
       "      <th>destination_city</th>\n",
       "      <th>class</th>\n",
       "      <th>duration</th>\n",
       "      <th>days_left</th>\n",
       "      <th>price</th>\n",
       "    </tr>\n",
       "    <tr>\n",
       "      <th>id</th>\n",
       "      <th></th>\n",
       "      <th></th>\n",
       "      <th></th>\n",
       "      <th></th>\n",
       "      <th></th>\n",
       "      <th></th>\n",
       "      <th></th>\n",
       "      <th></th>\n",
       "      <th></th>\n",
       "      <th></th>\n",
       "      <th></th>\n",
       "    </tr>\n",
       "  </thead>\n",
       "  <tbody>\n",
       "    <tr>\n",
       "      <th>1</th>\n",
       "      <td>Vistara</td>\n",
       "      <td>UK-810</td>\n",
       "      <td>Bangalore</td>\n",
       "      <td>Early_Morning</td>\n",
       "      <td>one</td>\n",
       "      <td>Night</td>\n",
       "      <td>Mumbai</td>\n",
       "      <td>Economy</td>\n",
       "      <td>14.25</td>\n",
       "      <td>21</td>\n",
       "      <td>7212</td>\n",
       "    </tr>\n",
       "    <tr>\n",
       "      <th>2</th>\n",
       "      <td>SpiceJet</td>\n",
       "      <td>SG-5094</td>\n",
       "      <td>Hyderabad</td>\n",
       "      <td>Evening</td>\n",
       "      <td>zero</td>\n",
       "      <td>Night</td>\n",
       "      <td>Kolkata</td>\n",
       "      <td>Economy</td>\n",
       "      <td>1.75</td>\n",
       "      <td>7</td>\n",
       "      <td>5292</td>\n",
       "    </tr>\n",
       "    <tr>\n",
       "      <th>3</th>\n",
       "      <td>Vistara</td>\n",
       "      <td>UK-846</td>\n",
       "      <td>Bangalore</td>\n",
       "      <td>Morning</td>\n",
       "      <td>one</td>\n",
       "      <td>Evening</td>\n",
       "      <td>Delhi</td>\n",
       "      <td>Business</td>\n",
       "      <td>9.58</td>\n",
       "      <td>5</td>\n",
       "      <td>60553</td>\n",
       "    </tr>\n",
       "    <tr>\n",
       "      <th>4</th>\n",
       "      <td>Vistara</td>\n",
       "      <td>UK-706</td>\n",
       "      <td>Kolkata</td>\n",
       "      <td>Morning</td>\n",
       "      <td>one</td>\n",
       "      <td>Evening</td>\n",
       "      <td>Hyderabad</td>\n",
       "      <td>Economy</td>\n",
       "      <td>6.75</td>\n",
       "      <td>28</td>\n",
       "      <td>5760</td>\n",
       "    </tr>\n",
       "    <tr>\n",
       "      <th>5</th>\n",
       "      <td>Indigo</td>\n",
       "      <td>6E-5394</td>\n",
       "      <td>Chennai</td>\n",
       "      <td>Early_Morning</td>\n",
       "      <td>zero</td>\n",
       "      <td>Morning</td>\n",
       "      <td>Mumbai</td>\n",
       "      <td>Economy</td>\n",
       "      <td>2.00</td>\n",
       "      <td>4</td>\n",
       "      <td>10712</td>\n",
       "    </tr>\n",
       "  </tbody>\n",
       "</table>\n",
       "</div>"
      ],
      "text/plain": [
       "     airline   flight source_city departure_time stops arrival_time  \\\n",
       "id                                                                    \n",
       "1    Vistara   UK-810   Bangalore  Early_Morning   one        Night   \n",
       "2   SpiceJet  SG-5094   Hyderabad        Evening  zero        Night   \n",
       "3    Vistara   UK-846   Bangalore        Morning   one      Evening   \n",
       "4    Vistara   UK-706     Kolkata        Morning   one      Evening   \n",
       "5     Indigo  6E-5394     Chennai  Early_Morning  zero      Morning   \n",
       "\n",
       "   destination_city     class  duration  days_left  price  \n",
       "id                                                         \n",
       "1            Mumbai   Economy     14.25         21   7212  \n",
       "2           Kolkata   Economy      1.75          7   5292  \n",
       "3             Delhi  Business      9.58          5  60553  \n",
       "4         Hyderabad   Economy      6.75         28   5760  \n",
       "5            Mumbai   Economy      2.00          4  10712  "
      ]
     },
     "execution_count": 3,
     "metadata": {},
     "output_type": "execute_result"
    }
   ],
   "source": [
    "data = pd.read_csv('/kaggle/input/aviachipta-narxini-bashorat-qilish/train_data.csv', index_col=0)\n",
    "test_data = pd.read_csv('/kaggle/input/aviachipta-narxini-bashorat-qilish/test_data.csv', index_col=0)\n",
    "data.head()"
   ]
  },
  {
   "cell_type": "code",
   "execution_count": 4,
   "id": "2e87beba",
   "metadata": {
    "execution": {
     "iopub.execute_input": "2025-02-27T18:45:08.247983Z",
     "iopub.status.busy": "2025-02-27T18:45:08.247603Z",
     "iopub.status.idle": "2025-02-27T18:45:08.257897Z",
     "shell.execute_reply": "2025-02-27T18:45:08.256881Z"
    },
    "papermill": {
     "duration": 0.019758,
     "end_time": "2025-02-27T18:45:08.259703",
     "exception": false,
     "start_time": "2025-02-27T18:45:08.239945",
     "status": "completed"
    },
    "tags": []
   },
   "outputs": [],
   "source": [
    "X = data.drop(columns='price', axis=1)\n",
    "y = data['price'].copy()"
   ]
  },
  {
   "cell_type": "code",
   "execution_count": 5,
   "id": "89b6b705",
   "metadata": {
    "execution": {
     "iopub.execute_input": "2025-02-27T18:45:08.274741Z",
     "iopub.status.busy": "2025-02-27T18:45:08.274378Z",
     "iopub.status.idle": "2025-02-27T18:45:08.280018Z",
     "shell.execute_reply": "2025-02-27T18:45:08.279113Z"
    },
    "papermill": {
     "duration": 0.014745,
     "end_time": "2025-02-27T18:45:08.281458",
     "exception": false,
     "start_time": "2025-02-27T18:45:08.266713",
     "status": "completed"
    },
    "tags": []
   },
   "outputs": [
    {
     "data": {
      "text/plain": [
       "(20000, 11)"
      ]
     },
     "execution_count": 5,
     "metadata": {},
     "output_type": "execute_result"
    }
   ],
   "source": [
    "data.shape"
   ]
  },
  {
   "cell_type": "code",
   "execution_count": 6,
   "id": "ce0d088d",
   "metadata": {
    "execution": {
     "iopub.execute_input": "2025-02-27T18:45:08.297308Z",
     "iopub.status.busy": "2025-02-27T18:45:08.296812Z",
     "iopub.status.idle": "2025-02-27T18:45:08.324741Z",
     "shell.execute_reply": "2025-02-27T18:45:08.323583Z"
    },
    "papermill": {
     "duration": 0.03765,
     "end_time": "2025-02-27T18:45:08.326353",
     "exception": false,
     "start_time": "2025-02-27T18:45:08.288703",
     "status": "completed"
    },
    "tags": []
   },
   "outputs": [
    {
     "name": "stdout",
     "output_type": "stream",
     "text": [
      "<class 'pandas.core.frame.DataFrame'>\n",
      "Index: 20000 entries, 1 to 20000\n",
      "Data columns (total 11 columns):\n",
      " #   Column            Non-Null Count  Dtype  \n",
      "---  ------            --------------  -----  \n",
      " 0   airline           20000 non-null  object \n",
      " 1   flight            20000 non-null  object \n",
      " 2   source_city       20000 non-null  object \n",
      " 3   departure_time    20000 non-null  object \n",
      " 4   stops             20000 non-null  object \n",
      " 5   arrival_time      20000 non-null  object \n",
      " 6   destination_city  20000 non-null  object \n",
      " 7   class             20000 non-null  object \n",
      " 8   duration          20000 non-null  float64\n",
      " 9   days_left         20000 non-null  int64  \n",
      " 10  price             20000 non-null  int64  \n",
      "dtypes: float64(1), int64(2), object(8)\n",
      "memory usage: 1.8+ MB\n"
     ]
    }
   ],
   "source": [
    "data.info()"
   ]
  },
  {
   "cell_type": "code",
   "execution_count": 7,
   "id": "c46a21b0",
   "metadata": {
    "execution": {
     "iopub.execute_input": "2025-02-27T18:45:08.342020Z",
     "iopub.status.busy": "2025-02-27T18:45:08.341675Z",
     "iopub.status.idle": "2025-02-27T18:45:08.351399Z",
     "shell.execute_reply": "2025-02-27T18:45:08.350381Z"
    },
    "papermill": {
     "duration": 0.019491,
     "end_time": "2025-02-27T18:45:08.353111",
     "exception": false,
     "start_time": "2025-02-27T18:45:08.333620",
     "status": "completed"
    },
    "tags": []
   },
   "outputs": [
    {
     "data": {
      "text/plain": [
       "flight\n",
       "UK-706     208\n",
       "UK-720     190\n",
       "UK-822     178\n",
       "UK-836     169\n",
       "UK-772     169\n",
       "          ... \n",
       "6E-2471      1\n",
       "6E-821       1\n",
       "SG-1031      1\n",
       "6E-759       1\n",
       "6E-7201      1\n",
       "Name: count, Length: 1310, dtype: int64"
      ]
     },
     "execution_count": 7,
     "metadata": {},
     "output_type": "execute_result"
    }
   ],
   "source": [
    "data['flight'].value_counts()"
   ]
  },
  {
   "cell_type": "code",
   "execution_count": 8,
   "id": "d048b5ea",
   "metadata": {
    "execution": {
     "iopub.execute_input": "2025-02-27T18:45:08.368820Z",
     "iopub.status.busy": "2025-02-27T18:45:08.368423Z",
     "iopub.status.idle": "2025-02-27T18:45:08.376207Z",
     "shell.execute_reply": "2025-02-27T18:45:08.375288Z"
    },
    "papermill": {
     "duration": 0.017734,
     "end_time": "2025-02-27T18:45:08.378270",
     "exception": false,
     "start_time": "2025-02-27T18:45:08.360536",
     "status": "completed"
    },
    "tags": []
   },
   "outputs": [],
   "source": [
    "X.drop(columns='flight', inplace=True)"
   ]
  },
  {
   "cell_type": "code",
   "execution_count": 9,
   "id": "b33c26b3",
   "metadata": {
    "execution": {
     "iopub.execute_input": "2025-02-27T18:45:08.394363Z",
     "iopub.status.busy": "2025-02-27T18:45:08.393978Z",
     "iopub.status.idle": "2025-02-27T18:45:08.437439Z",
     "shell.execute_reply": "2025-02-27T18:45:08.436433Z"
    },
    "papermill": {
     "duration": 0.05329,
     "end_time": "2025-02-27T18:45:08.439073",
     "exception": false,
     "start_time": "2025-02-27T18:45:08.385783",
     "status": "completed"
    },
    "tags": []
   },
   "outputs": [
    {
     "data": {
      "text/html": [
       "<div>\n",
       "<style scoped>\n",
       "    .dataframe tbody tr th:only-of-type {\n",
       "        vertical-align: middle;\n",
       "    }\n",
       "\n",
       "    .dataframe tbody tr th {\n",
       "        vertical-align: top;\n",
       "    }\n",
       "\n",
       "    .dataframe thead th {\n",
       "        text-align: right;\n",
       "    }\n",
       "</style>\n",
       "<table border=\"1\" class=\"dataframe\">\n",
       "  <thead>\n",
       "    <tr style=\"text-align: right;\">\n",
       "      <th></th>\n",
       "      <th>airline</th>\n",
       "      <th>source_city</th>\n",
       "      <th>departure_time</th>\n",
       "      <th>stops</th>\n",
       "      <th>arrival_time</th>\n",
       "      <th>destination_city</th>\n",
       "      <th>class</th>\n",
       "      <th>duration</th>\n",
       "      <th>days_left</th>\n",
       "    </tr>\n",
       "    <tr>\n",
       "      <th>id</th>\n",
       "      <th></th>\n",
       "      <th></th>\n",
       "      <th></th>\n",
       "      <th></th>\n",
       "      <th></th>\n",
       "      <th></th>\n",
       "      <th></th>\n",
       "      <th></th>\n",
       "      <th></th>\n",
       "    </tr>\n",
       "  </thead>\n",
       "  <tbody>\n",
       "    <tr>\n",
       "      <th>1</th>\n",
       "      <td>5</td>\n",
       "      <td>0</td>\n",
       "      <td>1</td>\n",
       "      <td>0</td>\n",
       "      <td>5</td>\n",
       "      <td>5</td>\n",
       "      <td>1</td>\n",
       "      <td>14.25</td>\n",
       "      <td>21</td>\n",
       "    </tr>\n",
       "    <tr>\n",
       "      <th>2</th>\n",
       "      <td>4</td>\n",
       "      <td>3</td>\n",
       "      <td>2</td>\n",
       "      <td>2</td>\n",
       "      <td>5</td>\n",
       "      <td>4</td>\n",
       "      <td>1</td>\n",
       "      <td>1.75</td>\n",
       "      <td>7</td>\n",
       "    </tr>\n",
       "    <tr>\n",
       "      <th>3</th>\n",
       "      <td>5</td>\n",
       "      <td>0</td>\n",
       "      <td>4</td>\n",
       "      <td>0</td>\n",
       "      <td>2</td>\n",
       "      <td>2</td>\n",
       "      <td>0</td>\n",
       "      <td>9.58</td>\n",
       "      <td>5</td>\n",
       "    </tr>\n",
       "    <tr>\n",
       "      <th>4</th>\n",
       "      <td>5</td>\n",
       "      <td>4</td>\n",
       "      <td>4</td>\n",
       "      <td>0</td>\n",
       "      <td>2</td>\n",
       "      <td>3</td>\n",
       "      <td>1</td>\n",
       "      <td>6.75</td>\n",
       "      <td>28</td>\n",
       "    </tr>\n",
       "    <tr>\n",
       "      <th>5</th>\n",
       "      <td>3</td>\n",
       "      <td>1</td>\n",
       "      <td>1</td>\n",
       "      <td>2</td>\n",
       "      <td>4</td>\n",
       "      <td>5</td>\n",
       "      <td>1</td>\n",
       "      <td>2.00</td>\n",
       "      <td>4</td>\n",
       "    </tr>\n",
       "  </tbody>\n",
       "</table>\n",
       "</div>"
      ],
      "text/plain": [
       "    airline  source_city  departure_time  stops  arrival_time  \\\n",
       "id                                                              \n",
       "1         5            0               1      0             5   \n",
       "2         4            3               2      2             5   \n",
       "3         5            0               4      0             2   \n",
       "4         5            4               4      0             2   \n",
       "5         3            1               1      2             4   \n",
       "\n",
       "    destination_city  class  duration  days_left  \n",
       "id                                                \n",
       "1                  5      1     14.25         21  \n",
       "2                  4      1      1.75          7  \n",
       "3                  2      0      9.58          5  \n",
       "4                  3      1      6.75         28  \n",
       "5                  5      1      2.00          4  "
      ]
     },
     "execution_count": 9,
     "metadata": {},
     "output_type": "execute_result"
    }
   ],
   "source": [
    "text_cols=['airline',  'source_city', 'departure_time','stops', 'arrival_time', 'destination_city', 'class']\n",
    "num_cols=['duration', 'days_left']\n",
    "\n",
    "label_encod = LabelEncoder()\n",
    "scaler=StandardScaler()\n",
    "\n",
    "label_encoders={}\n",
    "\n",
    "for col in text_cols:\n",
    "    X[col]=label_encod.fit_transform(X[col])\n",
    "    label_encoders[col]=label_encod\n",
    "\n",
    "X.head()"
   ]
  },
  {
   "cell_type": "code",
   "execution_count": 10,
   "id": "412224c4",
   "metadata": {
    "execution": {
     "iopub.execute_input": "2025-02-27T18:45:08.455137Z",
     "iopub.status.busy": "2025-02-27T18:45:08.454792Z",
     "iopub.status.idle": "2025-02-27T18:45:08.459446Z",
     "shell.execute_reply": "2025-02-27T18:45:08.458602Z"
    },
    "papermill": {
     "duration": 0.014489,
     "end_time": "2025-02-27T18:45:08.460965",
     "exception": false,
     "start_time": "2025-02-27T18:45:08.446476",
     "status": "completed"
    },
    "tags": []
   },
   "outputs": [],
   "source": [
    "X['duration']=X['duration'].astype(float)"
   ]
  },
  {
   "cell_type": "code",
   "execution_count": 11,
   "id": "34bb0baf",
   "metadata": {
    "execution": {
     "iopub.execute_input": "2025-02-27T18:45:08.477230Z",
     "iopub.status.busy": "2025-02-27T18:45:08.476890Z",
     "iopub.status.idle": "2025-02-27T18:45:08.487874Z",
     "shell.execute_reply": "2025-02-27T18:45:08.486684Z"
    },
    "papermill": {
     "duration": 0.021225,
     "end_time": "2025-02-27T18:45:08.489668",
     "exception": false,
     "start_time": "2025-02-27T18:45:08.468443",
     "status": "completed"
    },
    "tags": []
   },
   "outputs": [
    {
     "name": "stdout",
     "output_type": "stream",
     "text": [
      "<class 'pandas.core.frame.DataFrame'>\n",
      "Index: 20000 entries, 1 to 20000\n",
      "Data columns (total 9 columns):\n",
      " #   Column            Non-Null Count  Dtype  \n",
      "---  ------            --------------  -----  \n",
      " 0   airline           20000 non-null  int64  \n",
      " 1   source_city       20000 non-null  int64  \n",
      " 2   departure_time    20000 non-null  int64  \n",
      " 3   stops             20000 non-null  int64  \n",
      " 4   arrival_time      20000 non-null  int64  \n",
      " 5   destination_city  20000 non-null  int64  \n",
      " 6   class             20000 non-null  int64  \n",
      " 7   duration          20000 non-null  float64\n",
      " 8   days_left         20000 non-null  int64  \n",
      "dtypes: float64(1), int64(8)\n",
      "memory usage: 1.5 MB\n"
     ]
    }
   ],
   "source": [
    "X.info()"
   ]
  },
  {
   "cell_type": "code",
   "execution_count": 12,
   "id": "dde71d35",
   "metadata": {
    "execution": {
     "iopub.execute_input": "2025-02-27T18:45:08.506271Z",
     "iopub.status.busy": "2025-02-27T18:45:08.505921Z",
     "iopub.status.idle": "2025-02-27T18:45:08.517642Z",
     "shell.execute_reply": "2025-02-27T18:45:08.516627Z"
    },
    "papermill": {
     "duration": 0.022096,
     "end_time": "2025-02-27T18:45:08.519368",
     "exception": false,
     "start_time": "2025-02-27T18:45:08.497272",
     "status": "completed"
    },
    "tags": []
   },
   "outputs": [
    {
     "data": {
      "text/plain": [
       "((16000, 9), (4000,))"
      ]
     },
     "execution_count": 12,
     "metadata": {},
     "output_type": "execute_result"
    }
   ],
   "source": [
    "X_train, X_test, y_train, y_test = train_test_split(X, y, test_size=0.2, random_state=42)\n",
    "X_train.shape, y_test.shape"
   ]
  },
  {
   "cell_type": "code",
   "execution_count": 13,
   "id": "0f61263c",
   "metadata": {
    "execution": {
     "iopub.execute_input": "2025-02-27T18:45:08.536326Z",
     "iopub.status.busy": "2025-02-27T18:45:08.535993Z",
     "iopub.status.idle": "2025-02-27T18:45:08.564966Z",
     "shell.execute_reply": "2025-02-27T18:45:08.563866Z"
    },
    "papermill": {
     "duration": 0.039222,
     "end_time": "2025-02-27T18:45:08.566762",
     "exception": false,
     "start_time": "2025-02-27T18:45:08.527540",
     "status": "completed"
    },
    "tags": []
   },
   "outputs": [
    {
     "data": {
      "text/plain": [
       "array([[-0.6109521 , -1.47043494, -0.24285189, ...,  0.67361153,\n",
       "        -1.02542705,  0.44421574],\n",
       "       [-1.15784892,  0.2345819 , -0.81150845, ..., -1.48453515,\n",
       "         0.68489074,  0.95782886],\n",
       "       [ 1.02973834,  0.2345819 , -1.38016501, ...,  0.67361153,\n",
       "        -0.58283869, -1.09662363],\n",
       "       ...,\n",
       "       [-1.15784892, -0.33375705,  0.89446123, ...,  0.67361153,\n",
       "         2.2206863 , -1.46349015],\n",
       "       [-0.6109521 , -1.47043494, -0.81150845, ...,  0.67361153,\n",
       "        -0.349677  , -0.65638381],\n",
       "       [-0.06405529,  1.3712598 ,  0.89446123, ...,  0.67361153,\n",
       "        -1.07150092, -0.94987703]])"
      ]
     },
     "execution_count": 13,
     "metadata": {},
     "output_type": "execute_result"
    }
   ],
   "source": [
    "X_train_prepared = scaler.fit_transform(X_train)\n",
    "X_train_prepared"
   ]
  },
  {
   "cell_type": "code",
   "execution_count": 14,
   "id": "fb00a322",
   "metadata": {
    "execution": {
     "iopub.execute_input": "2025-02-27T18:45:08.583526Z",
     "iopub.status.busy": "2025-02-27T18:45:08.583122Z",
     "iopub.status.idle": "2025-02-27T18:45:08.587066Z",
     "shell.execute_reply": "2025-02-27T18:45:08.586173Z"
    },
    "papermill": {
     "duration": 0.013896,
     "end_time": "2025-02-27T18:45:08.588625",
     "exception": false,
     "start_time": "2025-02-27T18:45:08.574729",
     "status": "completed"
    },
    "tags": []
   },
   "outputs": [],
   "source": [
    "LR_model = LinearRegression()"
   ]
  },
  {
   "cell_type": "code",
   "execution_count": 15,
   "id": "4c7e756c",
   "metadata": {
    "execution": {
     "iopub.execute_input": "2025-02-27T18:45:08.605138Z",
     "iopub.status.busy": "2025-02-27T18:45:08.604769Z",
     "iopub.status.idle": "2025-02-27T18:45:08.681468Z",
     "shell.execute_reply": "2025-02-27T18:45:08.680415Z"
    },
    "papermill": {
     "duration": 0.086797,
     "end_time": "2025-02-27T18:45:08.683171",
     "exception": false,
     "start_time": "2025-02-27T18:45:08.596374",
     "status": "completed"
    },
    "tags": []
   },
   "outputs": [
    {
     "data": {
      "text/html": [
       "<style>#sk-container-id-1 {color: black;background-color: white;}#sk-container-id-1 pre{padding: 0;}#sk-container-id-1 div.sk-toggleable {background-color: white;}#sk-container-id-1 label.sk-toggleable__label {cursor: pointer;display: block;width: 100%;margin-bottom: 0;padding: 0.3em;box-sizing: border-box;text-align: center;}#sk-container-id-1 label.sk-toggleable__label-arrow:before {content: \"▸\";float: left;margin-right: 0.25em;color: #696969;}#sk-container-id-1 label.sk-toggleable__label-arrow:hover:before {color: black;}#sk-container-id-1 div.sk-estimator:hover label.sk-toggleable__label-arrow:before {color: black;}#sk-container-id-1 div.sk-toggleable__content {max-height: 0;max-width: 0;overflow: hidden;text-align: left;background-color: #f0f8ff;}#sk-container-id-1 div.sk-toggleable__content pre {margin: 0.2em;color: black;border-radius: 0.25em;background-color: #f0f8ff;}#sk-container-id-1 input.sk-toggleable__control:checked~div.sk-toggleable__content {max-height: 200px;max-width: 100%;overflow: auto;}#sk-container-id-1 input.sk-toggleable__control:checked~label.sk-toggleable__label-arrow:before {content: \"▾\";}#sk-container-id-1 div.sk-estimator input.sk-toggleable__control:checked~label.sk-toggleable__label {background-color: #d4ebff;}#sk-container-id-1 div.sk-label input.sk-toggleable__control:checked~label.sk-toggleable__label {background-color: #d4ebff;}#sk-container-id-1 input.sk-hidden--visually {border: 0;clip: rect(1px 1px 1px 1px);clip: rect(1px, 1px, 1px, 1px);height: 1px;margin: -1px;overflow: hidden;padding: 0;position: absolute;width: 1px;}#sk-container-id-1 div.sk-estimator {font-family: monospace;background-color: #f0f8ff;border: 1px dotted black;border-radius: 0.25em;box-sizing: border-box;margin-bottom: 0.5em;}#sk-container-id-1 div.sk-estimator:hover {background-color: #d4ebff;}#sk-container-id-1 div.sk-parallel-item::after {content: \"\";width: 100%;border-bottom: 1px solid gray;flex-grow: 1;}#sk-container-id-1 div.sk-label:hover label.sk-toggleable__label {background-color: #d4ebff;}#sk-container-id-1 div.sk-serial::before {content: \"\";position: absolute;border-left: 1px solid gray;box-sizing: border-box;top: 0;bottom: 0;left: 50%;z-index: 0;}#sk-container-id-1 div.sk-serial {display: flex;flex-direction: column;align-items: center;background-color: white;padding-right: 0.2em;padding-left: 0.2em;position: relative;}#sk-container-id-1 div.sk-item {position: relative;z-index: 1;}#sk-container-id-1 div.sk-parallel {display: flex;align-items: stretch;justify-content: center;background-color: white;position: relative;}#sk-container-id-1 div.sk-item::before, #sk-container-id-1 div.sk-parallel-item::before {content: \"\";position: absolute;border-left: 1px solid gray;box-sizing: border-box;top: 0;bottom: 0;left: 50%;z-index: -1;}#sk-container-id-1 div.sk-parallel-item {display: flex;flex-direction: column;z-index: 1;position: relative;background-color: white;}#sk-container-id-1 div.sk-parallel-item:first-child::after {align-self: flex-end;width: 50%;}#sk-container-id-1 div.sk-parallel-item:last-child::after {align-self: flex-start;width: 50%;}#sk-container-id-1 div.sk-parallel-item:only-child::after {width: 0;}#sk-container-id-1 div.sk-dashed-wrapped {border: 1px dashed gray;margin: 0 0.4em 0.5em 0.4em;box-sizing: border-box;padding-bottom: 0.4em;background-color: white;}#sk-container-id-1 div.sk-label label {font-family: monospace;font-weight: bold;display: inline-block;line-height: 1.2em;}#sk-container-id-1 div.sk-label-container {text-align: center;}#sk-container-id-1 div.sk-container {/* jupyter's `normalize.less` sets `[hidden] { display: none; }` but bootstrap.min.css set `[hidden] { display: none !important; }` so we also need the `!important` here to be able to override the default hidden behavior on the sphinx rendered scikit-learn.org. See: https://github.com/scikit-learn/scikit-learn/issues/21755 */display: inline-block !important;position: relative;}#sk-container-id-1 div.sk-text-repr-fallback {display: none;}</style><div id=\"sk-container-id-1\" class=\"sk-top-container\"><div class=\"sk-text-repr-fallback\"><pre>LinearRegression()</pre><b>In a Jupyter environment, please rerun this cell to show the HTML representation or trust the notebook. <br />On GitHub, the HTML representation is unable to render, please try loading this page with nbviewer.org.</b></div><div class=\"sk-container\" hidden><div class=\"sk-item\"><div class=\"sk-estimator sk-toggleable\"><input class=\"sk-toggleable__control sk-hidden--visually\" id=\"sk-estimator-id-1\" type=\"checkbox\" checked><label for=\"sk-estimator-id-1\" class=\"sk-toggleable__label sk-toggleable__label-arrow\">LinearRegression</label><div class=\"sk-toggleable__content\"><pre>LinearRegression()</pre></div></div></div></div></div>"
      ],
      "text/plain": [
       "LinearRegression()"
      ]
     },
     "execution_count": 15,
     "metadata": {},
     "output_type": "execute_result"
    }
   ],
   "source": [
    "LR_model.fit(X_train_prepared, y_train)"
   ]
  },
  {
   "cell_type": "code",
   "execution_count": 16,
   "id": "0b0534c1",
   "metadata": {
    "execution": {
     "iopub.execute_input": "2025-02-27T18:45:08.700933Z",
     "iopub.status.busy": "2025-02-27T18:45:08.700569Z",
     "iopub.status.idle": "2025-02-27T18:45:08.710041Z",
     "shell.execute_reply": "2025-02-27T18:45:08.708999Z"
    },
    "papermill": {
     "duration": 0.020178,
     "end_time": "2025-02-27T18:45:08.711850",
     "exception": false,
     "start_time": "2025-02-27T18:45:08.691672",
     "status": "completed"
    },
    "tags": []
   },
   "outputs": [],
   "source": [
    "sample_data = X_train.sample(10)\n",
    "sample_data_prepared = scaler.fit_transform(sample_data)"
   ]
  },
  {
   "cell_type": "code",
   "execution_count": 17,
   "id": "a71a196f",
   "metadata": {
    "execution": {
     "iopub.execute_input": "2025-02-27T18:45:08.729030Z",
     "iopub.status.busy": "2025-02-27T18:45:08.728661Z",
     "iopub.status.idle": "2025-02-27T18:45:08.735973Z",
     "shell.execute_reply": "2025-02-27T18:45:08.734986Z"
    },
    "papermill": {
     "duration": 0.017788,
     "end_time": "2025-02-27T18:45:08.737660",
     "exception": false,
     "start_time": "2025-02-27T18:45:08.719872",
     "status": "completed"
    },
    "tags": []
   },
   "outputs": [
    {
     "data": {
      "text/plain": [
       "id\n",
       "14131    10962\n",
       "16542    82989\n",
       "13412     4262\n",
       "8315     11488\n",
       "788       6075\n",
       "1051     54684\n",
       "13523     5102\n",
       "13208     5103\n",
       "7909      4262\n",
       "18100     7958\n",
       "Name: price, dtype: int64"
      ]
     },
     "execution_count": 17,
     "metadata": {},
     "output_type": "execute_result"
    }
   ],
   "source": [
    "y_sample = y_train.loc[sample_data.index]\n",
    "y_sample"
   ]
  },
  {
   "cell_type": "code",
   "execution_count": 18,
   "id": "d022fcb0",
   "metadata": {
    "execution": {
     "iopub.execute_input": "2025-02-27T18:45:08.755127Z",
     "iopub.status.busy": "2025-02-27T18:45:08.754775Z",
     "iopub.status.idle": "2025-02-27T18:45:08.760372Z",
     "shell.execute_reply": "2025-02-27T18:45:08.759506Z"
    },
    "papermill": {
     "duration": 0.016089,
     "end_time": "2025-02-27T18:45:08.761954",
     "exception": false,
     "start_time": "2025-02-27T18:45:08.745865",
     "status": "completed"
    },
    "tags": []
   },
   "outputs": [],
   "source": [
    "predict = LR_model.predict(sample_data_prepared)"
   ]
  },
  {
   "cell_type": "code",
   "execution_count": 19,
   "id": "58d7f3de",
   "metadata": {
    "execution": {
     "iopub.execute_input": "2025-02-27T18:45:08.779559Z",
     "iopub.status.busy": "2025-02-27T18:45:08.779178Z",
     "iopub.status.idle": "2025-02-27T18:45:08.788566Z",
     "shell.execute_reply": "2025-02-27T18:45:08.787681Z"
    },
    "papermill": {
     "duration": 0.019849,
     "end_time": "2025-02-27T18:45:08.790075",
     "exception": false,
     "start_time": "2025-02-27T18:45:08.770226",
     "status": "completed"
    },
    "tags": []
   },
   "outputs": [
    {
     "data": {
      "text/html": [
       "<div>\n",
       "<style scoped>\n",
       "    .dataframe tbody tr th:only-of-type {\n",
       "        vertical-align: middle;\n",
       "    }\n",
       "\n",
       "    .dataframe tbody tr th {\n",
       "        vertical-align: top;\n",
       "    }\n",
       "\n",
       "    .dataframe thead th {\n",
       "        text-align: right;\n",
       "    }\n",
       "</style>\n",
       "<table border=\"1\" class=\"dataframe\">\n",
       "  <thead>\n",
       "    <tr style=\"text-align: right;\">\n",
       "      <th></th>\n",
       "      <th>asl narx</th>\n",
       "      <th>bashorat</th>\n",
       "    </tr>\n",
       "    <tr>\n",
       "      <th>id</th>\n",
       "      <th></th>\n",
       "      <th></th>\n",
       "    </tr>\n",
       "  </thead>\n",
       "  <tbody>\n",
       "    <tr>\n",
       "      <th>14131</th>\n",
       "      <td>10962</td>\n",
       "      <td>12309.573391</td>\n",
       "    </tr>\n",
       "    <tr>\n",
       "      <th>16542</th>\n",
       "      <td>82989</td>\n",
       "      <td>66053.356768</td>\n",
       "    </tr>\n",
       "    <tr>\n",
       "      <th>13412</th>\n",
       "      <td>4262</td>\n",
       "      <td>10681.596881</td>\n",
       "    </tr>\n",
       "    <tr>\n",
       "      <th>8315</th>\n",
       "      <td>11488</td>\n",
       "      <td>13436.518097</td>\n",
       "    </tr>\n",
       "    <tr>\n",
       "      <th>788</th>\n",
       "      <td>6075</td>\n",
       "      <td>9917.539290</td>\n",
       "    </tr>\n",
       "    <tr>\n",
       "      <th>1051</th>\n",
       "      <td>54684</td>\n",
       "      <td>58592.049868</td>\n",
       "    </tr>\n",
       "    <tr>\n",
       "      <th>13523</th>\n",
       "      <td>5102</td>\n",
       "      <td>7368.435708</td>\n",
       "    </tr>\n",
       "    <tr>\n",
       "      <th>13208</th>\n",
       "      <td>5103</td>\n",
       "      <td>5185.972698</td>\n",
       "    </tr>\n",
       "    <tr>\n",
       "      <th>7909</th>\n",
       "      <td>4262</td>\n",
       "      <td>10210.467908</td>\n",
       "    </tr>\n",
       "    <tr>\n",
       "      <th>18100</th>\n",
       "      <td>7958</td>\n",
       "      <td>15546.013139</td>\n",
       "    </tr>\n",
       "  </tbody>\n",
       "</table>\n",
       "</div>"
      ],
      "text/plain": [
       "       asl narx      bashorat\n",
       "id                           \n",
       "14131     10962  12309.573391\n",
       "16542     82989  66053.356768\n",
       "13412      4262  10681.596881\n",
       "8315      11488  13436.518097\n",
       "788        6075   9917.539290\n",
       "1051      54684  58592.049868\n",
       "13523      5102   7368.435708\n",
       "13208      5103   5185.972698\n",
       "7909       4262  10210.467908\n",
       "18100      7958  15546.013139"
      ]
     },
     "execution_count": 19,
     "metadata": {},
     "output_type": "execute_result"
    }
   ],
   "source": [
    "pd.DataFrame({\"asl narx\":y_sample, \"bashorat\":predict})"
   ]
  },
  {
   "cell_type": "code",
   "execution_count": 20,
   "id": "122eba54",
   "metadata": {
    "execution": {
     "iopub.execute_input": "2025-02-27T18:45:08.807977Z",
     "iopub.status.busy": "2025-02-27T18:45:08.807617Z",
     "iopub.status.idle": "2025-02-27T18:45:08.816794Z",
     "shell.execute_reply": "2025-02-27T18:45:08.815765Z"
    },
    "papermill": {
     "duration": 0.019939,
     "end_time": "2025-02-27T18:45:08.818450",
     "exception": false,
     "start_time": "2025-02-27T18:45:08.798511",
     "status": "completed"
    },
    "tags": []
   },
   "outputs": [],
   "source": [
    "X_test_prepared = scaler.fit_transform(X_test)"
   ]
  },
  {
   "cell_type": "code",
   "execution_count": 21,
   "id": "22af3a21",
   "metadata": {
    "execution": {
     "iopub.execute_input": "2025-02-27T18:45:08.836259Z",
     "iopub.status.busy": "2025-02-27T18:45:08.835929Z",
     "iopub.status.idle": "2025-02-27T18:45:08.841369Z",
     "shell.execute_reply": "2025-02-27T18:45:08.840560Z"
    },
    "papermill": {
     "duration": 0.016176,
     "end_time": "2025-02-27T18:45:08.843057",
     "exception": false,
     "start_time": "2025-02-27T18:45:08.826881",
     "status": "completed"
    },
    "tags": []
   },
   "outputs": [],
   "source": [
    "y_pred=LR_model.predict(X_test_prepared)"
   ]
  },
  {
   "cell_type": "code",
   "execution_count": 22,
   "id": "ae84fb08",
   "metadata": {
    "execution": {
     "iopub.execute_input": "2025-02-27T18:45:08.861123Z",
     "iopub.status.busy": "2025-02-27T18:45:08.860723Z",
     "iopub.status.idle": "2025-02-27T18:45:08.867580Z",
     "shell.execute_reply": "2025-02-27T18:45:08.866581Z"
    },
    "papermill": {
     "duration": 0.017455,
     "end_time": "2025-02-27T18:45:08.869191",
     "exception": false,
     "start_time": "2025-02-27T18:45:08.851736",
     "status": "completed"
    },
    "tags": []
   },
   "outputs": [
    {
     "data": {
      "text/plain": [
       "4623.773277263513"
      ]
     },
     "execution_count": 22,
     "metadata": {},
     "output_type": "execute_result"
    }
   ],
   "source": [
    "mean_absolute_error(y_test, y_pred)"
   ]
  },
  {
   "cell_type": "code",
   "execution_count": 23,
   "id": "ad0e1814",
   "metadata": {
    "execution": {
     "iopub.execute_input": "2025-02-27T18:45:08.887209Z",
     "iopub.status.busy": "2025-02-27T18:45:08.886826Z",
     "iopub.status.idle": "2025-02-27T18:45:08.891146Z",
     "shell.execute_reply": "2025-02-27T18:45:08.890038Z"
    },
    "papermill": {
     "duration": 0.01516,
     "end_time": "2025-02-27T18:45:08.892809",
     "exception": false,
     "start_time": "2025-02-27T18:45:08.877649",
     "status": "completed"
    },
    "tags": []
   },
   "outputs": [],
   "source": [
    "RF_model = RandomForestRegressor()"
   ]
  },
  {
   "cell_type": "code",
   "execution_count": 24,
   "id": "2c487c23",
   "metadata": {
    "execution": {
     "iopub.execute_input": "2025-02-27T18:45:08.910902Z",
     "iopub.status.busy": "2025-02-27T18:45:08.910458Z",
     "iopub.status.idle": "2025-02-27T18:45:13.538750Z",
     "shell.execute_reply": "2025-02-27T18:45:13.537738Z"
    },
    "papermill": {
     "duration": 4.639103,
     "end_time": "2025-02-27T18:45:13.540454",
     "exception": false,
     "start_time": "2025-02-27T18:45:08.901351",
     "status": "completed"
    },
    "tags": []
   },
   "outputs": [
    {
     "data": {
      "text/html": [
       "<style>#sk-container-id-2 {color: black;background-color: white;}#sk-container-id-2 pre{padding: 0;}#sk-container-id-2 div.sk-toggleable {background-color: white;}#sk-container-id-2 label.sk-toggleable__label {cursor: pointer;display: block;width: 100%;margin-bottom: 0;padding: 0.3em;box-sizing: border-box;text-align: center;}#sk-container-id-2 label.sk-toggleable__label-arrow:before {content: \"▸\";float: left;margin-right: 0.25em;color: #696969;}#sk-container-id-2 label.sk-toggleable__label-arrow:hover:before {color: black;}#sk-container-id-2 div.sk-estimator:hover label.sk-toggleable__label-arrow:before {color: black;}#sk-container-id-2 div.sk-toggleable__content {max-height: 0;max-width: 0;overflow: hidden;text-align: left;background-color: #f0f8ff;}#sk-container-id-2 div.sk-toggleable__content pre {margin: 0.2em;color: black;border-radius: 0.25em;background-color: #f0f8ff;}#sk-container-id-2 input.sk-toggleable__control:checked~div.sk-toggleable__content {max-height: 200px;max-width: 100%;overflow: auto;}#sk-container-id-2 input.sk-toggleable__control:checked~label.sk-toggleable__label-arrow:before {content: \"▾\";}#sk-container-id-2 div.sk-estimator input.sk-toggleable__control:checked~label.sk-toggleable__label {background-color: #d4ebff;}#sk-container-id-2 div.sk-label input.sk-toggleable__control:checked~label.sk-toggleable__label {background-color: #d4ebff;}#sk-container-id-2 input.sk-hidden--visually {border: 0;clip: rect(1px 1px 1px 1px);clip: rect(1px, 1px, 1px, 1px);height: 1px;margin: -1px;overflow: hidden;padding: 0;position: absolute;width: 1px;}#sk-container-id-2 div.sk-estimator {font-family: monospace;background-color: #f0f8ff;border: 1px dotted black;border-radius: 0.25em;box-sizing: border-box;margin-bottom: 0.5em;}#sk-container-id-2 div.sk-estimator:hover {background-color: #d4ebff;}#sk-container-id-2 div.sk-parallel-item::after {content: \"\";width: 100%;border-bottom: 1px solid gray;flex-grow: 1;}#sk-container-id-2 div.sk-label:hover label.sk-toggleable__label {background-color: #d4ebff;}#sk-container-id-2 div.sk-serial::before {content: \"\";position: absolute;border-left: 1px solid gray;box-sizing: border-box;top: 0;bottom: 0;left: 50%;z-index: 0;}#sk-container-id-2 div.sk-serial {display: flex;flex-direction: column;align-items: center;background-color: white;padding-right: 0.2em;padding-left: 0.2em;position: relative;}#sk-container-id-2 div.sk-item {position: relative;z-index: 1;}#sk-container-id-2 div.sk-parallel {display: flex;align-items: stretch;justify-content: center;background-color: white;position: relative;}#sk-container-id-2 div.sk-item::before, #sk-container-id-2 div.sk-parallel-item::before {content: \"\";position: absolute;border-left: 1px solid gray;box-sizing: border-box;top: 0;bottom: 0;left: 50%;z-index: -1;}#sk-container-id-2 div.sk-parallel-item {display: flex;flex-direction: column;z-index: 1;position: relative;background-color: white;}#sk-container-id-2 div.sk-parallel-item:first-child::after {align-self: flex-end;width: 50%;}#sk-container-id-2 div.sk-parallel-item:last-child::after {align-self: flex-start;width: 50%;}#sk-container-id-2 div.sk-parallel-item:only-child::after {width: 0;}#sk-container-id-2 div.sk-dashed-wrapped {border: 1px dashed gray;margin: 0 0.4em 0.5em 0.4em;box-sizing: border-box;padding-bottom: 0.4em;background-color: white;}#sk-container-id-2 div.sk-label label {font-family: monospace;font-weight: bold;display: inline-block;line-height: 1.2em;}#sk-container-id-2 div.sk-label-container {text-align: center;}#sk-container-id-2 div.sk-container {/* jupyter's `normalize.less` sets `[hidden] { display: none; }` but bootstrap.min.css set `[hidden] { display: none !important; }` so we also need the `!important` here to be able to override the default hidden behavior on the sphinx rendered scikit-learn.org. See: https://github.com/scikit-learn/scikit-learn/issues/21755 */display: inline-block !important;position: relative;}#sk-container-id-2 div.sk-text-repr-fallback {display: none;}</style><div id=\"sk-container-id-2\" class=\"sk-top-container\"><div class=\"sk-text-repr-fallback\"><pre>RandomForestRegressor()</pre><b>In a Jupyter environment, please rerun this cell to show the HTML representation or trust the notebook. <br />On GitHub, the HTML representation is unable to render, please try loading this page with nbviewer.org.</b></div><div class=\"sk-container\" hidden><div class=\"sk-item\"><div class=\"sk-estimator sk-toggleable\"><input class=\"sk-toggleable__control sk-hidden--visually\" id=\"sk-estimator-id-2\" type=\"checkbox\" checked><label for=\"sk-estimator-id-2\" class=\"sk-toggleable__label sk-toggleable__label-arrow\">RandomForestRegressor</label><div class=\"sk-toggleable__content\"><pre>RandomForestRegressor()</pre></div></div></div></div></div>"
      ],
      "text/plain": [
       "RandomForestRegressor()"
      ]
     },
     "execution_count": 24,
     "metadata": {},
     "output_type": "execute_result"
    }
   ],
   "source": [
    "RF_model.fit(X_train_prepared, y_train)"
   ]
  },
  {
   "cell_type": "code",
   "execution_count": 25,
   "id": "b9ffb0f0",
   "metadata": {
    "execution": {
     "iopub.execute_input": "2025-02-27T18:45:13.558793Z",
     "iopub.status.busy": "2025-02-27T18:45:13.558415Z",
     "iopub.status.idle": "2025-02-27T18:45:13.675243Z",
     "shell.execute_reply": "2025-02-27T18:45:13.674218Z"
    },
    "papermill": {
     "duration": 0.127889,
     "end_time": "2025-02-27T18:45:13.676971",
     "exception": false,
     "start_time": "2025-02-27T18:45:13.549082",
     "status": "completed"
    },
    "tags": []
   },
   "outputs": [
    {
     "data": {
      "text/plain": [
       "2082.842254672619"
      ]
     },
     "execution_count": 25,
     "metadata": {},
     "output_type": "execute_result"
    }
   ],
   "source": [
    "y_pred = RF_model.predict(X_test_prepared)\n",
    "mean_absolute_error(y_test, y_pred)"
   ]
  },
  {
   "cell_type": "code",
   "execution_count": 26,
   "id": "3b1af40d",
   "metadata": {
    "execution": {
     "iopub.execute_input": "2025-02-27T18:45:13.695907Z",
     "iopub.status.busy": "2025-02-27T18:45:13.695554Z",
     "iopub.status.idle": "2025-02-27T18:45:13.708756Z",
     "shell.execute_reply": "2025-02-27T18:45:13.707853Z"
    },
    "papermill": {
     "duration": 0.024352,
     "end_time": "2025-02-27T18:45:13.710329",
     "exception": false,
     "start_time": "2025-02-27T18:45:13.685977",
     "status": "completed"
    },
    "tags": []
   },
   "outputs": [
    {
     "data": {
      "text/html": [
       "<div>\n",
       "<style scoped>\n",
       "    .dataframe tbody tr th:only-of-type {\n",
       "        vertical-align: middle;\n",
       "    }\n",
       "\n",
       "    .dataframe tbody tr th {\n",
       "        vertical-align: top;\n",
       "    }\n",
       "\n",
       "    .dataframe thead th {\n",
       "        text-align: right;\n",
       "    }\n",
       "</style>\n",
       "<table border=\"1\" class=\"dataframe\">\n",
       "  <thead>\n",
       "    <tr style=\"text-align: right;\">\n",
       "      <th></th>\n",
       "      <th>airline</th>\n",
       "      <th>flight</th>\n",
       "      <th>source_city</th>\n",
       "      <th>departure_time</th>\n",
       "      <th>stops</th>\n",
       "      <th>arrival_time</th>\n",
       "      <th>destination_city</th>\n",
       "      <th>class</th>\n",
       "      <th>duration</th>\n",
       "      <th>days_left</th>\n",
       "    </tr>\n",
       "    <tr>\n",
       "      <th>id</th>\n",
       "      <th></th>\n",
       "      <th></th>\n",
       "      <th></th>\n",
       "      <th></th>\n",
       "      <th></th>\n",
       "      <th></th>\n",
       "      <th></th>\n",
       "      <th></th>\n",
       "      <th></th>\n",
       "      <th></th>\n",
       "    </tr>\n",
       "  </thead>\n",
       "  <tbody>\n",
       "    <tr>\n",
       "      <th>1</th>\n",
       "      <td>Air_India</td>\n",
       "      <td>AI-765</td>\n",
       "      <td>Kolkata</td>\n",
       "      <td>Evening</td>\n",
       "      <td>one</td>\n",
       "      <td>Night</td>\n",
       "      <td>Delhi</td>\n",
       "      <td>Business</td>\n",
       "      <td>28.25</td>\n",
       "      <td>2</td>\n",
       "    </tr>\n",
       "    <tr>\n",
       "      <th>2</th>\n",
       "      <td>Vistara</td>\n",
       "      <td>UK-747</td>\n",
       "      <td>Delhi</td>\n",
       "      <td>Early_Morning</td>\n",
       "      <td>one</td>\n",
       "      <td>Night</td>\n",
       "      <td>Mumbai</td>\n",
       "      <td>Business</td>\n",
       "      <td>13.83</td>\n",
       "      <td>34</td>\n",
       "    </tr>\n",
       "    <tr>\n",
       "      <th>3</th>\n",
       "      <td>Air_India</td>\n",
       "      <td>AI-570</td>\n",
       "      <td>Mumbai</td>\n",
       "      <td>Early_Morning</td>\n",
       "      <td>zero</td>\n",
       "      <td>Early_Morning</td>\n",
       "      <td>Chennai</td>\n",
       "      <td>Business</td>\n",
       "      <td>2.00</td>\n",
       "      <td>30</td>\n",
       "    </tr>\n",
       "    <tr>\n",
       "      <th>4</th>\n",
       "      <td>AirAsia</td>\n",
       "      <td>I5-974</td>\n",
       "      <td>Hyderabad</td>\n",
       "      <td>Night</td>\n",
       "      <td>one</td>\n",
       "      <td>Late_Night</td>\n",
       "      <td>Delhi</td>\n",
       "      <td>Economy</td>\n",
       "      <td>5.17</td>\n",
       "      <td>26</td>\n",
       "    </tr>\n",
       "    <tr>\n",
       "      <th>5</th>\n",
       "      <td>Air_India</td>\n",
       "      <td>AI-770</td>\n",
       "      <td>Kolkata</td>\n",
       "      <td>Night</td>\n",
       "      <td>one</td>\n",
       "      <td>Afternoon</td>\n",
       "      <td>Mumbai</td>\n",
       "      <td>Economy</td>\n",
       "      <td>16.33</td>\n",
       "      <td>35</td>\n",
       "    </tr>\n",
       "  </tbody>\n",
       "</table>\n",
       "</div>"
      ],
      "text/plain": [
       "      airline  flight source_city departure_time stops   arrival_time  \\\n",
       "id                                                                      \n",
       "1   Air_India  AI-765     Kolkata        Evening   one          Night   \n",
       "2     Vistara  UK-747       Delhi  Early_Morning   one          Night   \n",
       "3   Air_India  AI-570      Mumbai  Early_Morning  zero  Early_Morning   \n",
       "4     AirAsia  I5-974   Hyderabad          Night   one     Late_Night   \n",
       "5   Air_India  AI-770     Kolkata          Night   one      Afternoon   \n",
       "\n",
       "   destination_city     class  duration  days_left  \n",
       "id                                                  \n",
       "1             Delhi  Business     28.25          2  \n",
       "2            Mumbai  Business     13.83         34  \n",
       "3           Chennai  Business      2.00         30  \n",
       "4             Delhi   Economy      5.17         26  \n",
       "5            Mumbai   Economy     16.33         35  "
      ]
     },
     "execution_count": 26,
     "metadata": {},
     "output_type": "execute_result"
    }
   ],
   "source": [
    "test_data.head()"
   ]
  },
  {
   "cell_type": "code",
   "execution_count": 27,
   "id": "36619805",
   "metadata": {
    "execution": {
     "iopub.execute_input": "2025-02-27T18:45:13.729267Z",
     "iopub.status.busy": "2025-02-27T18:45:13.728926Z",
     "iopub.status.idle": "2025-02-27T18:45:13.751463Z",
     "shell.execute_reply": "2025-02-27T18:45:13.750417Z"
    },
    "papermill": {
     "duration": 0.034041,
     "end_time": "2025-02-27T18:45:13.753259",
     "exception": false,
     "start_time": "2025-02-27T18:45:13.719218",
     "status": "completed"
    },
    "tags": []
   },
   "outputs": [
    {
     "data": {
      "text/html": [
       "<div>\n",
       "<style scoped>\n",
       "    .dataframe tbody tr th:only-of-type {\n",
       "        vertical-align: middle;\n",
       "    }\n",
       "\n",
       "    .dataframe tbody tr th {\n",
       "        vertical-align: top;\n",
       "    }\n",
       "\n",
       "    .dataframe thead th {\n",
       "        text-align: right;\n",
       "    }\n",
       "</style>\n",
       "<table border=\"1\" class=\"dataframe\">\n",
       "  <thead>\n",
       "    <tr style=\"text-align: right;\">\n",
       "      <th></th>\n",
       "      <th>airline</th>\n",
       "      <th>flight</th>\n",
       "      <th>source_city</th>\n",
       "      <th>departure_time</th>\n",
       "      <th>stops</th>\n",
       "      <th>arrival_time</th>\n",
       "      <th>destination_city</th>\n",
       "      <th>class</th>\n",
       "      <th>duration</th>\n",
       "      <th>days_left</th>\n",
       "    </tr>\n",
       "    <tr>\n",
       "      <th>id</th>\n",
       "      <th></th>\n",
       "      <th></th>\n",
       "      <th></th>\n",
       "      <th></th>\n",
       "      <th></th>\n",
       "      <th></th>\n",
       "      <th></th>\n",
       "      <th></th>\n",
       "      <th></th>\n",
       "      <th></th>\n",
       "    </tr>\n",
       "  </thead>\n",
       "  <tbody>\n",
       "    <tr>\n",
       "      <th>1</th>\n",
       "      <td>1</td>\n",
       "      <td>AI-765</td>\n",
       "      <td>4</td>\n",
       "      <td>2</td>\n",
       "      <td>0</td>\n",
       "      <td>5</td>\n",
       "      <td>2</td>\n",
       "      <td>0</td>\n",
       "      <td>28.25</td>\n",
       "      <td>2</td>\n",
       "    </tr>\n",
       "    <tr>\n",
       "      <th>2</th>\n",
       "      <td>5</td>\n",
       "      <td>UK-747</td>\n",
       "      <td>2</td>\n",
       "      <td>1</td>\n",
       "      <td>0</td>\n",
       "      <td>5</td>\n",
       "      <td>5</td>\n",
       "      <td>0</td>\n",
       "      <td>13.83</td>\n",
       "      <td>34</td>\n",
       "    </tr>\n",
       "    <tr>\n",
       "      <th>3</th>\n",
       "      <td>1</td>\n",
       "      <td>AI-570</td>\n",
       "      <td>5</td>\n",
       "      <td>1</td>\n",
       "      <td>2</td>\n",
       "      <td>1</td>\n",
       "      <td>1</td>\n",
       "      <td>0</td>\n",
       "      <td>2.00</td>\n",
       "      <td>30</td>\n",
       "    </tr>\n",
       "    <tr>\n",
       "      <th>4</th>\n",
       "      <td>0</td>\n",
       "      <td>I5-974</td>\n",
       "      <td>3</td>\n",
       "      <td>5</td>\n",
       "      <td>0</td>\n",
       "      <td>3</td>\n",
       "      <td>2</td>\n",
       "      <td>1</td>\n",
       "      <td>5.17</td>\n",
       "      <td>26</td>\n",
       "    </tr>\n",
       "    <tr>\n",
       "      <th>5</th>\n",
       "      <td>1</td>\n",
       "      <td>AI-770</td>\n",
       "      <td>4</td>\n",
       "      <td>5</td>\n",
       "      <td>0</td>\n",
       "      <td>0</td>\n",
       "      <td>5</td>\n",
       "      <td>1</td>\n",
       "      <td>16.33</td>\n",
       "      <td>35</td>\n",
       "    </tr>\n",
       "  </tbody>\n",
       "</table>\n",
       "</div>"
      ],
      "text/plain": [
       "    airline  flight  source_city  departure_time  stops  arrival_time  \\\n",
       "id                                                                      \n",
       "1         1  AI-765            4               2      0             5   \n",
       "2         5  UK-747            2               1      0             5   \n",
       "3         1  AI-570            5               1      2             1   \n",
       "4         0  I5-974            3               5      0             3   \n",
       "5         1  AI-770            4               5      0             0   \n",
       "\n",
       "    destination_city  class  duration  days_left  \n",
       "id                                                \n",
       "1                  2      0     28.25          2  \n",
       "2                  5      0     13.83         34  \n",
       "3                  1      0      2.00         30  \n",
       "4                  2      1      5.17         26  \n",
       "5                  5      1     16.33         35  "
      ]
     },
     "execution_count": 27,
     "metadata": {},
     "output_type": "execute_result"
    }
   ],
   "source": [
    "text_cols=['airline',  'source_city', 'departure_time','stops', 'arrival_time', 'destination_city', 'class']\n",
    "num_cols=['duration', 'days_left']\n",
    "\n",
    "label_encod = LabelEncoder()\n",
    "scaler=StandardScaler()\n",
    "\n",
    "label_encoders={}\n",
    "\n",
    "for col in text_cols:\n",
    "    test_data[col]=label_encod.fit_transform(test_data[col])\n",
    "    label_encoders[col]=label_encod\n",
    "\n",
    "test_data.head()"
   ]
  },
  {
   "cell_type": "code",
   "execution_count": 28,
   "id": "523ffc82",
   "metadata": {
    "execution": {
     "iopub.execute_input": "2025-02-27T18:45:13.773075Z",
     "iopub.status.busy": "2025-02-27T18:45:13.772688Z",
     "iopub.status.idle": "2025-02-27T18:45:13.778572Z",
     "shell.execute_reply": "2025-02-27T18:45:13.777579Z"
    },
    "papermill": {
     "duration": 0.017761,
     "end_time": "2025-02-27T18:45:13.780316",
     "exception": false,
     "start_time": "2025-02-27T18:45:13.762555",
     "status": "completed"
    },
    "tags": []
   },
   "outputs": [],
   "source": [
    "test_data.drop(columns='flight', inplace=True)"
   ]
  },
  {
   "cell_type": "code",
   "execution_count": 29,
   "id": "cc2b6795",
   "metadata": {
    "execution": {
     "iopub.execute_input": "2025-02-27T18:45:13.799541Z",
     "iopub.status.busy": "2025-02-27T18:45:13.799170Z",
     "iopub.status.idle": "2025-02-27T18:45:13.803747Z",
     "shell.execute_reply": "2025-02-27T18:45:13.802826Z"
    },
    "papermill": {
     "duration": 0.015803,
     "end_time": "2025-02-27T18:45:13.805352",
     "exception": false,
     "start_time": "2025-02-27T18:45:13.789549",
     "status": "completed"
    },
    "tags": []
   },
   "outputs": [],
   "source": [
    "test_data['duration']=test_data['duration'].astype(float)"
   ]
  },
  {
   "cell_type": "code",
   "execution_count": 30,
   "id": "80400a1b",
   "metadata": {
    "execution": {
     "iopub.execute_input": "2025-02-27T18:45:13.824551Z",
     "iopub.status.busy": "2025-02-27T18:45:13.824169Z",
     "iopub.status.idle": "2025-02-27T18:45:13.835668Z",
     "shell.execute_reply": "2025-02-27T18:45:13.834380Z"
    },
    "papermill": {
     "duration": 0.022804,
     "end_time": "2025-02-27T18:45:13.837274",
     "exception": false,
     "start_time": "2025-02-27T18:45:13.814470",
     "status": "completed"
    },
    "tags": []
   },
   "outputs": [
    {
     "name": "stdout",
     "output_type": "stream",
     "text": [
      "<class 'pandas.core.frame.DataFrame'>\n",
      "Index: 5000 entries, 1 to 5000\n",
      "Data columns (total 9 columns):\n",
      " #   Column            Non-Null Count  Dtype  \n",
      "---  ------            --------------  -----  \n",
      " 0   airline           5000 non-null   int64  \n",
      " 1   source_city       5000 non-null   int64  \n",
      " 2   departure_time    5000 non-null   int64  \n",
      " 3   stops             5000 non-null   int64  \n",
      " 4   arrival_time      5000 non-null   int64  \n",
      " 5   destination_city  5000 non-null   int64  \n",
      " 6   class             5000 non-null   int64  \n",
      " 7   duration          5000 non-null   float64\n",
      " 8   days_left         5000 non-null   int64  \n",
      "dtypes: float64(1), int64(8)\n",
      "memory usage: 390.6 KB\n"
     ]
    }
   ],
   "source": [
    "test_data.info()"
   ]
  },
  {
   "cell_type": "code",
   "execution_count": 31,
   "id": "852eeeb0",
   "metadata": {
    "execution": {
     "iopub.execute_input": "2025-02-27T18:45:13.856584Z",
     "iopub.status.busy": "2025-02-27T18:45:13.856211Z",
     "iopub.status.idle": "2025-02-27T18:45:13.868029Z",
     "shell.execute_reply": "2025-02-27T18:45:13.867006Z"
    },
    "papermill": {
     "duration": 0.023466,
     "end_time": "2025-02-27T18:45:13.869839",
     "exception": false,
     "start_time": "2025-02-27T18:45:13.846373",
     "status": "completed"
    },
    "tags": []
   },
   "outputs": [],
   "source": [
    "test_data_prepared = scaler.fit_transform(test_data)"
   ]
  },
  {
   "cell_type": "code",
   "execution_count": 32,
   "id": "6ada297b",
   "metadata": {
    "execution": {
     "iopub.execute_input": "2025-02-27T18:45:13.888928Z",
     "iopub.status.busy": "2025-02-27T18:45:13.888577Z",
     "iopub.status.idle": "2025-02-27T18:45:14.021642Z",
     "shell.execute_reply": "2025-02-27T18:45:14.020596Z"
    },
    "papermill": {
     "duration": 0.14466,
     "end_time": "2025-02-27T18:45:14.023605",
     "exception": false,
     "start_time": "2025-02-27T18:45:13.878945",
     "status": "completed"
    },
    "tags": []
   },
   "outputs": [],
   "source": [
    "Predict_data = RF_model.predict(test_data_prepared)"
   ]
  },
  {
   "cell_type": "code",
   "execution_count": 33,
   "id": "81a5edcf",
   "metadata": {
    "execution": {
     "iopub.execute_input": "2025-02-27T18:45:14.043259Z",
     "iopub.status.busy": "2025-02-27T18:45:14.042928Z",
     "iopub.status.idle": "2025-02-27T18:45:14.047541Z",
     "shell.execute_reply": "2025-02-27T18:45:14.046502Z"
    },
    "papermill": {
     "duration": 0.016271,
     "end_time": "2025-02-27T18:45:14.049214",
     "exception": false,
     "start_time": "2025-02-27T18:45:14.032943",
     "status": "completed"
    },
    "tags": []
   },
   "outputs": [],
   "source": [
    "result = pd.DataFrame({\"BAshorat narx\":Predict_data})"
   ]
  },
  {
   "cell_type": "code",
   "execution_count": 34,
   "id": "d4d9510d",
   "metadata": {
    "execution": {
     "iopub.execute_input": "2025-02-27T18:45:14.069077Z",
     "iopub.status.busy": "2025-02-27T18:45:14.068710Z",
     "iopub.status.idle": "2025-02-27T18:45:14.083956Z",
     "shell.execute_reply": "2025-02-27T18:45:14.082919Z"
    },
    "papermill": {
     "duration": 0.027187,
     "end_time": "2025-02-27T18:45:14.085841",
     "exception": false,
     "start_time": "2025-02-27T18:45:14.058654",
     "status": "completed"
    },
    "tags": []
   },
   "outputs": [],
   "source": [
    "result.to_csv(\"result_data\", index=False)"
   ]
  },
  {
   "cell_type": "code",
   "execution_count": null,
   "id": "aee16f1e",
   "metadata": {
    "papermill": {
     "duration": 0.008751,
     "end_time": "2025-02-27T18:45:14.103977",
     "exception": false,
     "start_time": "2025-02-27T18:45:14.095226",
     "status": "completed"
    },
    "tags": []
   },
   "outputs": [],
   "source": []
  }
 ],
 "metadata": {
  "kaggle": {
   "accelerator": "none",
   "dataSources": [
    {
     "databundleVersionId": 3619833,
     "sourceId": 36503,
     "sourceType": "competition"
    }
   ],
   "dockerImageVersionId": 30918,
   "isGpuEnabled": false,
   "isInternetEnabled": true,
   "language": "python",
   "sourceType": "notebook"
  },
  "kernelspec": {
   "display_name": "Python 3",
   "language": "python",
   "name": "python3"
  },
  "language_info": {
   "codemirror_mode": {
    "name": "ipython",
    "version": 3
   },
   "file_extension": ".py",
   "mimetype": "text/x-python",
   "name": "python",
   "nbconvert_exporter": "python",
   "pygments_lexer": "ipython3",
   "version": "3.10.12"
  },
  "papermill": {
   "default_parameters": {},
   "duration": 12.0991,
   "end_time": "2025-02-27T18:45:14.834000",
   "environment_variables": {},
   "exception": null,
   "input_path": "__notebook__.ipynb",
   "output_path": "__notebook__.ipynb",
   "parameters": {},
   "start_time": "2025-02-27T18:45:02.734900",
   "version": "2.6.0"
  }
 },
 "nbformat": 4,
 "nbformat_minor": 5
}
